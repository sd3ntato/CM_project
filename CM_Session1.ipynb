{
  "nbformat": 4,
  "nbformat_minor": 0,
  "metadata": {
    "colab": {
      "name": "CM_Session1.ipynb",
      "provenance": [],
      "collapsed_sections": []
    },
    "kernelspec": {
      "name": "python3",
      "display_name": "Python 3"
    },
    "language_info": {
      "name": "python"
    }
  },
  "cells": [
    {
      "cell_type": "code",
      "metadata": {
        "id": "w-UArqWvWIa-"
      },
      "source": [
        "# various imports\n",
        "\n",
        "import numpy as np\n",
        "import matplotlib.pyplot as plt\n",
        "from numpy import tanh\n",
        "from IPython.display import clear_output\n",
        "from sklearn import preprocessing\n",
        "from sklearn.utils import shuffle\n",
        "\n",
        "# i import my implementation of multi-layer perceptron\n",
        "from MLP import *\n",
        "\n",
        "# i define a dataset to test my nets on 1-dimensional regression task. the dataset is composed of a number of patterns \n",
        "# ( x, f_target(x)+some_noise ),\n",
        "# generated as follows:\n",
        "\n",
        "# definition of the function to do regression on\n",
        "f_target = lambda x: x**3 - x**2\n",
        "\n",
        "#generate data\n",
        "tx = np.sort( ( 2*np.random.rand(300)-1 )*2 ) # random sorted input\n",
        "ty = np.array( [ f_target(x) + (2*np.random.rand()-1) for x in tx ] ) # desired output, plus some noise\n",
        "\n",
        "# rescale input\n",
        "tx = (tx-np.min(tx))/(np.max(tx)-np.min(tx))\n",
        "\n",
        "# give data the proper shape\n",
        "tx = tx.reshape(-1,1)\n",
        "ty = ty.reshape(-1,1)\n",
        "data = np.hstack((tx,ty))\n"
      ],
      "execution_count": 2,
      "outputs": []
    },
    {
      "cell_type": "code",
      "metadata": {
        "colab": {
          "base_uri": "https://localhost:8080/"
        },
        "id": "ETuyeR3bYSyE",
        "outputId": "d4abaa2f-212b-4f4c-d294-b762d0921731"
      },
      "source": [
        "# N1 NETWORK CM\n",
        "errors = []\n",
        "for _ in range(10):\n",
        "  n = MLP(  Nh=[4,8,4], Nu=1, Ny=1, f='tanh', f_out='ide', w_range=.7,w_scale=2)\n",
        "  n.momentum_train(tx, ty,alpha=1e-02,beta=1e-03,epsilon=1e-12,max_epochs=2000)\n",
        "  outs = n.supply_sequence(tx)\n",
        "  outs = outs.reshape(ty.shape)\n",
        "  errors.append(MSE(outs,ty))\n",
        "\n",
        "print(errors)\n",
        "print(np.mean(errors))\n",
        "print(np.var(errors))"
      ],
      "execution_count": 5,
      "outputs": [
        {
          "output_type": "stream",
          "text": [
            "[0.7097889623482322, 0.5160019207987834, 0.6835613866768172, 0.46263148983969093, 0.6379389915214244, 0.5687311837644846, 0.5671726881244115, 0.574563917027222, 0.47266491156840573, 0.5599407967112695]\n",
            "0.5752996248380742\n",
            "0.0060821518341030185\n"
          ],
          "name": "stdout"
        }
      ]
    },
    {
      "cell_type": "code",
      "metadata": {
        "colab": {
          "base_uri": "https://localhost:8080/"
        },
        "id": "KA1dBg2iYUWD",
        "outputId": "9457de78-c896-485c-e9ea-1c5c798948c8"
      },
      "source": [
        "# N2 NETWORK CM\n",
        "errors = []\n",
        "for _ in range(10):\n",
        "  n = MLP(  Nh=[10], Nu=1, Ny=1, f='tanh', f_out='ide', w_range=.7,w_scale=2)\n",
        "  n.momentum_train(tx, ty,alpha=1e-02,beta=1e-03,epsilon=1e-12,max_epochs=2000)\n",
        "  outs = n.supply_sequence(tx)\n",
        "  outs = outs.reshape(ty.shape)\n",
        "  errors.append(MSE(outs,ty))\n",
        "\n",
        "print(errors)\n",
        "print(np.mean(errors))\n",
        "print(np.var(errors))"
      ],
      "execution_count": 4,
      "outputs": [
        {
          "output_type": "stream",
          "text": [
            "[1.8498606724317757, 2.0563630845452803, 2.1155322646567774, 2.0602426926778206, 1.9345743925769288, 2.3497320868845404, 2.136045861425771, 1.8033110914680637, 2.2071994584971044, 2.1453937108519248]\n",
            "2.0658255316015985\n",
            "0.02472244876842087\n"
          ],
          "name": "stdout"
        }
      ]
    },
    {
      "cell_type": "code",
      "metadata": {
        "id": "UyS5fwa1bUlE"
      },
      "source": [
        "# N1 NETWORK PBM\n",
        "errors = []\n",
        "for _ in range(10):\n",
        "  n = MLP(  Nh=[4,8,4], Nu=1, Ny=1, f='tanh', f_out='ide', w_range=.7,w_scale=2)\n",
        "  proximal_bundle_method(n, tx, ty, mu=10, reg_param=1e-12)\n",
        "  outs = n.supply_sequence(tx)\n",
        "  outs = outs.reshape(ty.shape)\n",
        "  errors.append(MSE(outs,ty))\n",
        "\n",
        "print(errors)\n",
        "print(np.mean(errors))\n",
        "print(np.var(errors))"
      ],
      "execution_count": null,
      "outputs": []
    }
  ]
}