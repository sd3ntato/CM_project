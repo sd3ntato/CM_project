{
  "nbformat": 4,
  "nbformat_minor": 0,
  "metadata": {
    "colab": {
      "name": "test_unidim_regression.ipynb",
      "provenance": [],
      "collapsed_sections": []
    },
    "kernelspec": {
      "name": "python3",
      "display_name": "Python 3.8.6 64-bit",
      "metadata": {
        "interpreter": {
          "hash": "31f2aee4e71d21fbe5cf8b01ff0e069b9275f58929596ceb00d14d90e3e16cd6"
        }
      }
    }
  },
  "cells": [
    {
      "cell_type": "code",
      "metadata": {
        "id": "RIXyAESxe2A-"
      },
      "source": [
        "# various imports\n",
        "\n",
        "import numpy as np\n",
        "import matplotlib.pyplot as plt\n",
        "from numpy import tanh\n",
        "from IPython.display import clear_output\n",
        "from sklearn import preprocessing\n",
        "from sklearn.utils import shuffle"
      ],
      "execution_count": null,
      "outputs": []
    },
    {
      "cell_type": "code",
      "metadata": {
        "id": "j1HKfk44BZyk"
      },
      "source": [
        "# i import my implementation of multi-layer perceptron\n",
        "\n",
        "from MLP import *"
      ],
      "execution_count": null,
      "outputs": []
    },
    {
      "cell_type": "code",
      "metadata": {
        "id": "IYn9SuJkqhIG"
      },
      "source": [
        "# i define a dataset to test my nets on 1-dimensional regression task. the dataset is composed of a number of patterns \n",
        "# ( x, f_target(x)+some_noise ),\n",
        "# generated as follows:\n",
        "\n",
        "# definition of the function to do regression on\n",
        "f_target = lambda x: x**3 - x**2\n",
        "\n",
        "#generate data\n",
        "tx = np.sort( ( 2*np.random.rand(300)-1 )*2 ) # random sorted input\n",
        "ty = np.array( [ f_target(x) + (2*np.random.rand()-1) for x in tx ] ) # desired output, plus some noise\n",
        "\n",
        "# rescale input\n",
        "tx = (tx-np.min(tx))/(np.max(tx)-np.min(tx))\n",
        "\n",
        "# give data the proper shape\n",
        "tx = tx.reshape(-1,1)\n",
        "ty = ty.reshape(-1,1)\n",
        "data = np.hstack((tx,ty))"
      ],
      "execution_count": null,
      "outputs": []
    },
    {
      "cell_type": "code",
      "metadata": {
        "id": "ZMo0dgWUt1Iy",
        "colab": {
          "base_uri": "https://localhost:8080/",
          "height": 282
        },
        "tags": [],
        "outputId": "68c701dd-cfe5-4420-9335-22a06ff1d91d"
      },
      "source": [
        "# to test training and performance of the net, i generate one and then i see how it goes before training, then train it, and after \n",
        "# i can see how it goes after training:\n",
        "\n",
        "# define a multi-layer-perceptron, and run it on the test samples even if is not trained yet, just to show that the net works \n",
        "# but spits random outputs\n",
        "n = MLP(  Nh=[10], Nu=1, Ny=1, f='tanh', f_out='ide', w_range=.7,w_scale=2)\n",
        "outs = n.supply_sequence(tx).reshape(-1) \n",
        "\n",
        "# plot the target function\n",
        "plt.plot(tx,ty,label='target fuction')\n",
        "\n",
        "#plot the output of the untrained net, then print Mean Sqaured Error (MSE)\n",
        "plt.plot(tx,outs,label='network outputs')\n",
        "plt.legend()\n",
        "print( MSE(outs,ty))"
      ],
      "execution_count": null,
      "outputs": []
    },
    {
      "cell_type": "code",
      "metadata": {
        "id": "2xINYkImsxlU",
        "colab": {
          "base_uri": "https://localhost:8080/"
        },
        "outputId": "f18e8fc8-b46d-46c1-e706-821ba92cd262"
      },
      "source": [
        "# now i train my net. In this case i use classical momentum with no regularization. after training i plot some convergence-curves \n",
        "# using data i collected during training\n",
        "\n",
        "init_w = np.copy(n.w)\n",
        "\n",
        "# train the net with momentum training\n",
        "g_m,e_m,t_m = n.momentum_train(tx, ty,alpha=5e-02,beta=5e-03,epsilon=1e-12,tresh=.05,max_epochs=2000)\n",
        "\n",
        "# train the network with bundle method\n",
        "n.w = init_w\n",
        "from utils import proximal_bundle_method\n",
        "g_b, e_b, t_b = proximal_bundle_method(n, tx, ty, mu=10, reg_param=1e-12)"
      ],
      "execution_count": null,
      "outputs": []
    },
    {
      "cell_type": "code",
      "metadata": {
        "colab": {
          "base_uri": "https://localhost:8080/",
          "height": 282
        },
        "id": "NKi28FYx3Qvo",
        "outputId": "ad45b2d3-44ee-4249-8c5d-d28ae48bc281"
      },
      "source": [
        "# plot the results with iterations\n",
        "plt.plot( e_m,label='loss momentum')\n",
        "plt.plot( e_b,label='loss bundle')\n",
        "plt.legend()"
      ],
      "execution_count": null,
      "outputs": []
    },
    {
      "cell_type": "code",
      "metadata": {
        "colab": {
          "base_uri": "https://localhost:8080/",
          "height": 282
        },
        "id": "PmYvj2OQ3OQ9",
        "outputId": "8ef66644-b59a-44bb-9d7b-4f52a4532bd2"
      },
      "source": [
        "# plot the results with time\n",
        "plt.plot(t_m, e_m,label='loss momentum')\n",
        "plt.plot(t_b, e_b,label='loss bundle')\n",
        "plt.legend()"
      ],
      "execution_count": null,
      "outputs": []
    },
    {
      "cell_type": "code",
      "metadata": {
        "id": "SbPwvWr6tTIB",
        "colab": {
          "base_uri": "https://localhost:8080/",
          "height": 282
        },
        "outputId": "aa004870-b679-491d-f992-d25844726ada"
      },
      "source": [
        "# now that i trained my net, i can see how it performs (after training) on the target function (training set). Hopefully, one can\n",
        "# see that the net has fit the function\n",
        "\n",
        "# compute output of the net and reshape them in order to plot them\n",
        "outs = n.supply_sequence(tx)\n",
        "outs = outs.reshape(ty.shape)\n",
        "\n",
        "# plot the target function and otuput of the trained network\n",
        "plt.plot(tx,ty,label='target function')\n",
        "plt.plot(tx,outs.reshape(-1),label='network outputs')\n",
        "plt.legend()\n",
        "\n",
        "print( MSE(outs,ty))"
      ],
      "execution_count": null,
      "outputs": []
    },
    {
      "cell_type": "code",
      "metadata": {
        "colab": {
          "base_uri": "https://localhost:8080/"
        },
        "id": "Yi8ZXmnJ0cqj",
        "outputId": "3a06366f-0c6d-429a-8c64-a0b68dedf1df"
      },
      "source": [
        "errors = []\n",
        "for _ in range(10):\n",
        "  n = MLP(  Nh=[10], Nu=1, Ny=1, f='tanh', f_out='ide', w_range=.7,w_scale=2)\n",
        "  n.momentum_train(tx, ty,alpha=5e-02,beta=5e-03,epsilon=1e-12,tresh=.05,max_epochs=2000)\n",
        "  outs = n.supply_sequence(tx)\n",
        "  outs = outs.reshape(ty.shape)\n",
        "  errors.append(n.test_loss(tx,ty,1e-12))\n",
        "\n",
        "print(errors)\n",
        "print(np.mean(errors))\n",
        "print(np.var(errors))"
      ],
      "execution_count": null,
      "outputs": []
    },
    {
      "cell_type": "code",
      "metadata": {
        "id": "R2JBvwTa0cqj"
      },
      "source": [
        "errors = []\n",
        "for _ in range(10):\n",
        "  n = MLP(  Nh=[10], Nu=1, Ny=1, f='tanh', f_out='ide', w_range=.7,w_scale=2)\n",
        "  proximal_bundle_method(n, tx, ty, mu=10, reg_param=1e-12)\n",
        "  outs = n.supply_sequence(tx)\n",
        "  outs = outs.reshape(ty.shape)\n",
        "  errors.append(n.test_loss(tx,ty,1e-12))\n",
        "\n",
        "print(errors)\n",
        "print(np.mean(errors))\n",
        "print(np.var(errors))"
      ],
      "execution_count": null,
      "outputs": []
    }
  ]
}