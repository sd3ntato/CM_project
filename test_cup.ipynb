{
  "nbformat": 4,
  "nbformat_minor": 0,
  "metadata": {
    "language_info": {
      "codemirror_mode": {
        "name": "ipython",
        "version": 3
      },
      "file_extension": ".py",
      "mimetype": "text/x-python",
      "name": "python",
      "nbconvert_exporter": "python",
      "pygments_lexer": "ipython3",
      "version": "3.8.6-final"
    },
    "orig_nbformat": 2,
    "kernelspec": {
      "name": "python3",
      "display_name": "Python 3.8.6 64-bit",
      "metadata": {
        "interpreter": {
          "hash": "31f2aee4e71d21fbe5cf8b01ff0e069b9275f58929596ceb00d14d90e3e16cd6"
        }
      }
    },
    "colab": {
      "name": "test_cup.ipynb",
      "provenance": []
    }
  },
  "cells": [
    {
      "cell_type": "code",
      "metadata": {
        "colab": {
          "base_uri": "https://localhost:8080/"
        },
        "id": "5iCXJWGY9bss",
        "outputId": "78bc4f72-273a-48ea-d09a-ef4b2929c30c"
      },
      "source": [
        "import pandas as pd\n",
        "import numpy as np\n",
        "import matplotlib.pyplot as plt\n",
        "from numpy import tanh\n",
        "from IPython.display import clear_output\n",
        "from sklearn import preprocessing\n",
        "from sklearn.utils import shuffle\n",
        "\n",
        "data = pd.read_csv('ML-CUP20-TR.csv',sep=',',index_col=0)\n",
        "data = data.to_numpy()\n",
        "tx = data[:,:-2]\n",
        "ty = data[:,-2:]\n",
        "tx.shape, ty.shape"
      ],
      "execution_count": null,
      "outputs": []
    },
    {
      "cell_type": "code",
      "metadata": {
        "id": "L3zEet-q9bsw"
      },
      "source": [
        "from MLP import *"
      ],
      "execution_count": null,
      "outputs": []
    },
    {
      "cell_type": "code",
      "metadata": {
        "colab": {
          "base_uri": "https://localhost:8080/"
        },
        "id": "2mE3ZsGC9bsx",
        "outputId": "2bdfc856-6f1f-49fc-ed1c-3267d2dbfb27"
      },
      "source": [
        "n = MLP(  Nh=[20,10], Nu=10, Ny=2, f='tanh', f_out='ide', w_scale=2, w_range=.7)\n",
        "\n",
        "# now i train my net. In this case i use classical momentum with no regularization. after training i plot some convergence-curves \n",
        "# using data i collected during training\n",
        "\n",
        "init_w = np.copy(n.w)\n",
        "\n",
        "# train the net with momentum training\n",
        "g_m,e_m,t_m = n.momentum_train(tx, ty,alpha=5e-03,beta=5e-03,epsilon=1e-12,tresh=.01,max_epochs=2000)\n",
        "\n",
        "n.w = init_w\n",
        "\n",
        "# train the network with bundle method\n",
        "from utils import proximal_bundle_method\n",
        "g_b, e_b, t_b = proximal_bundle_method(n, tx, ty, mu=10, reg_param=1e-12)"
      ],
      "execution_count": null,
      "outputs": []
    },
    {
      "cell_type": "code",
      "metadata": {
        "colab": {
          "base_uri": "https://localhost:8080/",
          "height": 282
        },
        "id": "u0gvjG3T9bsx",
        "outputId": "4b24b7f7-df4b-48dc-d586-d55668496b9d"
      },
      "source": [
        "# plot the results with iterations\n",
        "plt.plot( e_m,label='loss momentum')\n",
        "plt.plot( e_b,label='loss bundle')\n",
        "plt.legend()"
      ],
      "execution_count": null,
      "outputs": []
    },
    {
      "cell_type": "code",
      "metadata": {
        "colab": {
          "base_uri": "https://localhost:8080/",
          "height": 282
        },
        "id": "0CVmlHpK9bsx",
        "outputId": "e99b9b46-dd9f-47b1-9eae-44f9116b0dba"
      },
      "source": [
        "# plot the results with time\n",
        "plt.plot(t_m, e_m,label='loss momentum')\n",
        "plt.plot(t_b, e_b,label='loss bundle')\n",
        "plt.legend()"
      ],
      "execution_count": null,
      "outputs": []
    },
    {
      "cell_type": "code",
      "metadata": {
        "id": "3OB64PHj-Czm",
        "colab": {
          "base_uri": "https://localhost:8080/",
          "height": 375
        },
        "outputId": "0a4ed671-f897-4e54-89a1-b63fea5f964d"
      },
      "source": [
        "errors = []\n",
        "for _ in range(10):\n",
        "  n = MLP(  Nh=[20,10], Nu=10, Ny=2, f='tanh', f_out='ide', w_scale=2, w_range=.7)\n",
        "  n.momentum_train(tx, ty,alpha=5e-03,beta=5e-03,epsilon=1e-12,tresh=.01,max_epochs=2000)\n",
        "  outs = n.supply_sequence(tx)\n",
        "  outs = outs.reshape(ty.shape)\n",
        "  errors.append(n.test_loss(tx,ty,1e-12))\n",
        "\n",
        "print(errors)\n",
        "print(np.mean(errors))\n",
        "print(np.var(errors))"
      ],
      "execution_count": null,
      "outputs": []
    },
    {
      "cell_type": "code",
      "metadata": {
        "id": "N9ZvfNKU2_5Q"
      },
      "source": [
        "errors = []\n",
        "for _ in range(10):\n",
        "  n = MLP(  Nh=[20,10], Nu=10, Ny=2, f='tanh', f_out='ide', w_scale=2, w_range=.7)\n",
        "  proximal_bundle_method(n, tx, ty, mu=10, reg_param=1e-12)\n",
        "  outs = n.supply_sequence(tx)\n",
        "  outs = outs.reshape(ty.shape)\n",
        "  errors.append(n.test_loss(tx,ty,1e-12))\n",
        "\n",
        "print(errors)\n",
        "print(np.mean(errors))\n",
        "print(np.var(errors))"
      ],
      "execution_count": null,
      "outputs": []
    },
    {
      "cell_type": "code",
      "metadata": {
        "id": "EgsHj0G15xgM"
      },
      "source": [],
      "execution_count": null,
      "outputs": []
    }
  ]
}