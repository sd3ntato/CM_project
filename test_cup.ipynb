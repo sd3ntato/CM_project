{
  "nbformat": 4,
  "nbformat_minor": 0,
  "metadata": {
    "language_info": {
      "codemirror_mode": {
        "name": "ipython",
        "version": 3
      },
      "file_extension": ".py",
      "mimetype": "text/x-python",
      "name": "python",
      "nbconvert_exporter": "python",
      "pygments_lexer": "ipython3",
      "version": "3.8.6-final"
    },
    "orig_nbformat": 2,
    "kernelspec": {
      "name": "python3",
      "display_name": "Python 3.8.6 64-bit",
      "metadata": {
        "interpreter": {
          "hash": "31f2aee4e71d21fbe5cf8b01ff0e069b9275f58929596ceb00d14d90e3e16cd6"
        }
      }
    },
    "colab": {
      "name": "test_cup.ipynb",
      "provenance": []
    }
  },
  "cells": [
    {
      "cell_type": "code",
      "metadata": {
        "colab": {
          "base_uri": "https://localhost:8080/"
        },
        "id": "5iCXJWGY9bss",
        "outputId": "87227b7d-36d5-4b13-f837-09576f2602f6"
      },
      "source": [
        "import pandas as pd\n",
        "import numpy as np\n",
        "import matplotlib.pyplot as plt\n",
        "from numpy import tanh\n",
        "from IPython.display import clear_output\n",
        "from sklearn import preprocessing\n",
        "from sklearn.utils import shuffle\n",
        "\n",
        "data = pd.read_csv('ML-CUP20-TR.csv',sep=',',index_col=0)\n",
        "data = data.to_numpy()\n",
        "tx = data[:,:-2]\n",
        "ty = data[:,-2:]\n",
        "tx.shape, ty.shape"
      ],
      "execution_count": 22,
      "outputs": [
        {
          "output_type": "execute_result",
          "data": {
            "text/plain": [
              "((1523, 10), (1523, 2))"
            ]
          },
          "metadata": {
            "tags": []
          },
          "execution_count": 22
        }
      ]
    },
    {
      "cell_type": "code",
      "metadata": {
        "id": "L3zEet-q9bsw"
      },
      "source": [
        "from MLP import *\n",
        "n = MLP(  Nh=[20], Nu=10, Ny=2, f='tanh', f_out='ide', w_scale=2, w_range=.7)"
      ],
      "execution_count": 23,
      "outputs": []
    },
    {
      "cell_type": "code",
      "metadata": {
        "colab": {
          "base_uri": "https://localhost:8080/"
        },
        "id": "2mE3ZsGC9bsx",
        "outputId": "ccacbf38-6dee-4bb5-ecb4-4d8d0c8bcf1b"
      },
      "source": [
        "# now i train my net. In this case i use classical momentum with no regularization. after training i plot some convergence-curves \n",
        "# using data i collected during training\n",
        "\n",
        "init_w = np.copy(n.w)\n",
        "\n",
        "# train the net with momentum training\n",
        "g_m,e_m,t_m = n.momentum_train(tx, ty,alpha=2e-02,beta=5e-03,epsilon=1e-12,tresh=.01,max_epochs=2000)\n",
        "\n",
        "n.w = init_w\n",
        "\n",
        "# train the network with bundle method\n",
        "from utils import proximal_bundle_method\n",
        "g_b, e_b, t_b = proximal_bundle_method(n, tx, ty, mu=10, reg_param=1e-12)"
      ],
      "execution_count": 24,
      "outputs": [
        {
          "output_type": "stream",
          "text": [
            "optimal\n",
            "0.06023618286724221\n"
          ],
          "name": "stdout"
        }
      ]
    },
    {
      "cell_type": "code",
      "metadata": {
        "colab": {
          "base_uri": "https://localhost:8080/",
          "height": 282
        },
        "id": "u0gvjG3T9bsx",
        "outputId": "86e2a802-d14b-43aa-f7e5-4e9476fbda49"
      },
      "source": [
        "# plot the results with iterations\n",
        "plt.plot( e_m,label='loss momentum')\n",
        "plt.plot( e_b,label='loss bundle')\n",
        "plt.legend()"
      ],
      "execution_count": 25,
      "outputs": [
        {
          "output_type": "execute_result",
          "data": {
            "text/plain": [
              "<matplotlib.legend.Legend at 0x7f83d7edf410>"
            ]
          },
          "metadata": {
            "tags": []
          },
          "execution_count": 25
        },
        {
          "output_type": "display_data",
          "data": {
            "image/png": "[encoded data removed]",
            "text/plain": [
              "<Figure size 432x288 with 1 Axes>"
            ]
          },
          "metadata": {
            "tags": [],
            "needs_background": "light"
          }
        }
      ]
    },
    {
      "cell_type": "code",
      "metadata": {
        "colab": {
          "base_uri": "https://localhost:8080/",
          "height": 282
        },
        "id": "0CVmlHpK9bsx",
        "outputId": "8fd4174d-c255-4e31-a253-bb6f3750b459"
      },
      "source": [
        "# plot the results with time\n",
        "plt.plot(t_m, e_m,label='loss momentum')\n",
        "plt.plot(t_b, e_b,label='loss bundle')\n",
        "plt.legend()"
      ],
      "execution_count": 26,
      "outputs": [
        {
          "output_type": "execute_result",
          "data": {
            "text/plain": [
              "<matplotlib.legend.Legend at 0x7f83d75b3710>"
            ]
          },
          "metadata": {
            "tags": []
          },
          "execution_count": 26
        },
        {
          "output_type": "display_data",
          "data": {
            "image/png": "[encoded data removed]",
            "text/plain": [
              "<Figure size 432x288 with 1 Axes>"
            ]
          },
          "metadata": {
            "tags": [],
            "needs_background": "light"
          }
        }
      ]
    },
    {
      "cell_type": "code",
      "metadata": {
        "id": "3OB64PHj-Czm"
      },
      "source": [
        ""
      ],
      "execution_count": 11,
      "outputs": []
    }
  ]
}