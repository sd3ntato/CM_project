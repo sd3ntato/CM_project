{
 "metadata": {
  "language_info": {
   "codemirror_mode": {
    "name": "ipython",
    "version": 3
   },
   "file_extension": ".py",
   "mimetype": "text/x-python",
   "name": "python",
   "nbconvert_exporter": "python",
   "pygments_lexer": "ipython3",
   "version": "3.8.6-final"
  },
  "orig_nbformat": 2,
  "kernelspec": {
   "name": "python3",
   "display_name": "Python 3.8.6 64-bit",
   "metadata": {
    "interpreter": {
     "hash": "31f2aee4e71d21fbe5cf8b01ff0e069b9275f58929596ceb00d14d90e3e16cd6"
    }
   }
  }
 },
 "nbformat": 4,
 "nbformat_minor": 2,
 "cells": [
  {
   "cell_type": "code",
   "execution_count": null,
   "metadata": {},
   "outputs": [],
   "source": [
    "# various imports\n",
    "\n",
    "import numpy as np\n",
    "import matplotlib.pyplot as plt\n",
    "from numpy import tanh\n",
    "from IPython.display import clear_output\n",
    "from sklearn import preprocessing\n",
    "from sklearn.utils import shuffle"
   ]
  },
  {
   "cell_type": "code",
   "execution_count": null,
   "metadata": {},
   "outputs": [],
   "source": [
    "# i import my implementation of multi-layer perceptron\n",
    "\n",
    "from MLP import *"
   ]
  },
  {
   "cell_type": "code",
   "execution_count": null,
   "metadata": {},
   "outputs": [],
   "source": [
    "# i define a dataset to test my nets on 1-dimensional regression task. the dataset is composed of a number of patterns \n",
    "# ( x, f_target(x)+some_noise ),\n",
    "# generated as follows:\n",
    "\n",
    "# definition of the function to do regression on\n",
    "f_target = lambda x: x**3 - x**2\n",
    "\n",
    "#generate data\n",
    "tx = np.sort( ( 2*np.random.rand(300)-1 )*2 ) # random sorted input\n",
    "ty = np.array( [ f_target(x) + (2*np.random.rand()-1) for x in tx ] ) # desired output, plus some noise\n",
    "\n",
    "# rescale input\n",
    "tx = (tx-np.min(tx))/(np.max(tx)-np.min(tx))\n",
    "\n",
    "# give data the proper shape\n",
    "tx = tx.reshape(-1,1)\n",
    "ty = ty.reshape(-1,1)\n",
    "data = np.hstack((tx,ty))"
   ]
  },
  {
   "cell_type": "code",
   "execution_count": null,
   "metadata": {},
   "outputs": [],
   "source": [
    "# to test training and performance of the net, i generate one and then i see how it goes before training, then train it, and after \n",
    "# i can see how it goes after training:\n",
    "\n",
    "# define a multi-layer-perceptron, and run it on the test samples even if is not trained yet, just to show that the net works \n",
    "# but spits random outputs\n",
    "n = MLP(  Nh=[10], Nu=1, Ny=1, f='tanh', f_out='ide', w_scale=2, w_range=.7)\n",
    "outs = n.supply_sequence(tx).reshape(-1) \n",
    "\n",
    "# plot the target function\n",
    "plt.plot(tx,ty,label='target fuction')\n",
    "\n",
    "#plot the output of the untrained net, then print Mean Sqaured Error (MSE)\n",
    "plt.plot(tx,outs,label='network outputs')\n",
    "plt.legend()\n",
    "print( MSE(outs,ty))"
   ]
  },
  {
   "cell_type": "code",
   "execution_count": null,
   "metadata": {},
   "outputs": [],
   "source": [
    "from utils import proximal_bundle_method\n",
    "\n",
    "w, g, e = proximal_bundle_method(n, tx, ty,mu=2, reg_param=1e-05)\n",
    "plt.plot(g)\n",
    "plt.plot(e)\n"
   ]
  },
  {
   "cell_type": "code",
   "execution_count": null,
   "metadata": {},
   "outputs": [],
   "source": [
    "# now that i trained my net, i can see how it performs (after training) on the target function (training set). Hopefully, one can\n",
    "# see that the net has fit the function\n",
    "\n",
    "# compute output of the net and reshape them in order to plot them\n",
    "outs = n.supply_sequence(tx)\n",
    "outs = outs.reshape(ty.shape)\n",
    "\n",
    "# plot the target function and otuput of the trained network\n",
    "plt.plot(tx,ty,label='target function')\n",
    "plt.plot(tx,outs.reshape(-1),label='network outputs')\n",
    "plt.legend()\n",
    "\n",
    "print( MSE(outs,ty))"
   ]
  },
  {
   "cell_type": "code",
   "execution_count": null,
   "metadata": {},
   "outputs": [],
   "source": []
  }
 ]
}