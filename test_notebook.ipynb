{
  "nbformat": 4,
  "nbformat_minor": 0,
  "metadata": {
    "colab": {
      "name": "MLP_Bias.ipynb",
      "provenance": [],
      "collapsed_sections": []
    },
    "kernelspec": {
      "name": "python3",
      "display_name": "Python 3.8.6 64-bit",
      "metadata": {
        "interpreter": {
          "hash": "31f2aee4e71d21fbe5cf8b01ff0e069b9275f58929596ceb00d14d90e3e16cd6"
        }
      }
    }
  },
  "cells": [
    {
      "cell_type": "code",
      "metadata": {
        "id": "RIXyAESxe2A-"
      },
      "source": [
        "import numpy as np\n",
        "import matplotlib.pyplot as plt\n",
        "from numpy import tanh\n",
        "from IPython.display import clear_output\n",
        "from sklearn import preprocessing\n",
        "from sklearn.utils import shuffle"
      ],
      "execution_count": null,
      "outputs": []
    },
    {
      "cell_type": "code",
      "metadata": {
        "id": "j1HKfk44BZyk"
      },
      "source": [
        "from MLP import *"
      ],
      "execution_count": null,
      "outputs": []
    },
    {
      "cell_type": "code",
      "metadata": {
        "id": "IYn9SuJkqhIG"
      },
      "source": [
        "f_target = lambda x: x**3-x**2\n",
        "tx = np.sort( (2*np.random.rand(300)-1)*2 )\n",
        "ty = np.array( [f_target(x)+(2*np.random.rand()-1) for x in tx ])#.reshape(1,-1)\n",
        "#ty = preprocessing.normalize(ty,axis=1).reshape(-1)\n",
        "tx = (tx-np.min(tx))/(np.max(tx)-np.min(tx))\n",
        "tx = tx.reshape(-1,1)\n",
        "ty = ty.reshape(-1,1)\n",
        "#ty = (ty-np.min(ty))/(np.max(ty)-np.min(ty))\n",
        "\n",
        "data = np.hstack((tx,ty))\n",
        "data.shape"
      ],
      "execution_count": null,
      "outputs": []
    },
    {
      "cell_type": "code",
      "metadata": {
        "id": "ZMo0dgWUt1Iy",
        "colab": {
          "base_uri": "https://localhost:8080/",
          "height": 283
        },
        "outputId": "c423b89f-0609-4aa9-f548-e04571f0b551",
        "tags": []
      },
      "source": [
        "n = MLP(  Nh=[2,5], Nu=1, Ny=1, f='tanh', f_out='ide', w_scale=5 )\n",
        "plt.plot(tx,ty,label='target fuction')\n",
        "outs = n.supply_sequence(tx).reshape(-1)\n",
        "\n",
        "plt.plot(tx,outs,label='network outputs')\n",
        "plt.legend()\n",
        "print( MSE(outs,ty))"
      ],
      "execution_count": null,
      "outputs": []
    },
    {
      "cell_type": "code",
      "metadata": {
        "id": "2xINYkImsxlU",
        "colab": {
          "base_uri": "https://localhost:8080/",
          "height": 300
        },
        "outputId": "5e9908c3-ae84-488e-debf-21784c1bd105"
      },
      "source": [
        "n.momentum_train(tx, ty, 5e-02,1e-02)"
      ],
      "execution_count": null,
      "outputs": []
    },
    {
      "cell_type": "code",
      "metadata": {
        "id": "SbPwvWr6tTIB",
        "colab": {
          "base_uri": "https://localhost:8080/",
          "height": 283
        },
        "outputId": "5ffb9630-6341-4a55-a9d7-edf59ca03aa9"
      },
      "source": [
        "plt.plot(tx,ty,label='target function')\n",
        "outs = n.supply_sequence(tx)\n",
        "outs = outs.reshape(ty.shape)\n",
        "plt.plot(tx,outs.reshape(-1),label='network outputs')\n",
        "plt.legend()\n",
        "\n",
        "print( MSE(outs,ty))"
      ],
      "execution_count": null,
      "outputs": []
    },
    {
      "cell_type": "code",
      "execution_count": null,
      "metadata": {},
      "outputs": [],
      "source": []
    }
  ]
}