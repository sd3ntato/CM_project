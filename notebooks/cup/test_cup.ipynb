{
  "nbformat": 4,
  "nbformat_minor": 0,
  "metadata": {
    "language_info": {
      "codemirror_mode": {
        "name": "ipython",
        "version": 3
      },
      "file_extension": ".py",
      "mimetype": "text/x-python",
      "name": "python",
      "nbconvert_exporter": "python",
      "pygments_lexer": "ipython3",
      "version": "3.8.6-final"
    },
    "orig_nbformat": 2,
    "kernelspec": {
      "name": "python3",
      "display_name": "Python 3.8.6 64-bit",
      "metadata": {
        "interpreter": {
          "hash": "31f2aee4e71d21fbe5cf8b01ff0e069b9275f58929596ceb00d14d90e3e16cd6"
        }
      }
    },
    "colab": {
      "name": "test_cup.ipynb",
      "provenance": [],
      "collapsed_sections": []
    }
  },
  "cells": [
    {
      "cell_type": "code",
      "metadata": {
        "colab": {
          "base_uri": "https://localhost:8080/"
        },
        "id": "5iCXJWGY9bss",
        "outputId": "723369db-d461-4b72-d13f-888751f67af0"
      },
      "source": [
        "import pandas as pd\n",
        "import numpy as np\n",
        "import matplotlib.pyplot as plt\n",
        "from numpy import tanh\n",
        "from IPython.display import clear_output\n",
        "from sklearn import preprocessing\n",
        "from sklearn.utils import shuffle\n",
        "\n",
        "data = pd.read_csv('ML-CUP20-TR.csv',sep=',',index_col=0)\n",
        "data = data.to_numpy()\n",
        "tx = data[:,:-2]\n",
        "ty = data[:,-2:]\n",
        "tx.shape, ty.shape"
      ],
      "execution_count": null,
      "outputs": [
        {
          "output_type": "execute_result",
          "data": {
            "text/plain": [
              "((1523, 10), (1523, 2))"
            ]
          },
          "metadata": {
            "tags": []
          },
          "execution_count": 1
        }
      ]
    },
    {
      "cell_type": "code",
      "metadata": {
        "id": "L3zEet-q9bsw"
      },
      "source": [
        "from MLP import *\n",
        "from utils import proximal_bundle_method"
      ],
      "execution_count": null,
      "outputs": []
    },
    {
      "cell_type": "code",
      "metadata": {
        "id": "3OB64PHj-Czm",
        "colab": {
          "base_uri": "https://localhost:8080/"
        },
        "outputId": "de07f515-bf09-4572-9bea-e88769a82e22"
      },
      "source": [
        "errors_m = []\n",
        "iterations_m = []\n",
        "times_m = []\n",
        "\n",
        "errors_b = []\n",
        "iterations_b = []\n",
        "times_b = []\n",
        "\n",
        "for _ in range(10):\n",
        "  n = MLP(  Nh=[10], Nu=10, Ny=2, f='tanh', f_out='ide', w_scale=2, w_range=.7)\n",
        "  init_w = np.copy(n.w)\n",
        "  # train the net with momentum training\n",
        "  g_m,e_m,t_m,ep_m = n.momentum_train(tx, ty,alpha=1e-02,beta=0.5,epsilon=1e-12,tresh=.01,max_epochs=2000)\n",
        "  errors_m.append(e_m[-1])\n",
        "  iterations_m.append(ep_m)\n",
        "  times_m.append(t_m[-1])\n",
        "\n",
        "  n.w = init_w\n",
        "\n",
        "  # train the network with bundle method\n",
        "  g_b, e_b, t_b,ep_b = proximal_bundle_method(n, tx, ty, mu=10, reg_param=1e-12,epsilon=1e-02,max_epochs=200)\n",
        "  errors_b.append(e_b[-1])\n",
        "  iterations_b.append(ep_b)\n",
        "  times_b.append(t_b[-1])"
      ],
      "execution_count": null,
      "outputs": [
        {
          "output_type": "stream",
          "text": [
            "optimal\n",
            "0.009890700816890434\n",
            "0.009890700816890434\n"
          ],
          "name": "stdout"
        }
      ]
    },
    {
      "cell_type": "code",
      "metadata": {
        "colab": {
          "base_uri": "https://localhost:8080/"
        },
        "id": "58qkFHONQTCa",
        "outputId": "47f728ce-2e45-4dae-e6b7-4ff12a74181c"
      },
      "source": [
        "print(errors_m )\n",
        "print(iterations_m )\n",
        "print(times_m)\n",
        "\n",
        "print(errors_b) \n",
        "print(iterations_b) \n",
        "print(times_b) \n",
        "\n",
        "print(' MOMENTUM ')\n",
        "best_m = min(errors_m)\n",
        "print('best',best_m)\n",
        "print('mean',np.mean(errors_m))\n",
        "print('median',np.median(errors_m))\n",
        "print('variance',np.var(errors_m))\n",
        "\n",
        "print()\n",
        "print(' BUNDLE ')\n",
        "best_b = min(errors_b)\n",
        "print('best',best_b)\n",
        "print('mean',np.mean(errors_b))\n",
        "print('median',np.median(errors_b))\n",
        "print('variance',np.var(errors_b))\n",
        "\n",
        "print()\n",
        "best = min([best_m,best_b])\n",
        "print(best)"
      ],
      "execution_count": null,
      "outputs": [
        {
          "output_type": "stream",
          "text": [
            "[9.896095069660802, 10.292412859243216, 11.156000884891796, 9.554035104885031, 11.65753611691054, 9.557234562179504, 10.058089180814966, 10.15931614304806, 9.738042867016983, 9.77643133580715]\n",
            "[217, 218, 261, 186, 221, 227, 198, 278, 260, 253]\n",
            "[48.31267589299932, 47.98831508999865, 58.67110402800063, 42.28189942600147, 52.17983576500046, 52.569831618000535, 45.73540941199826, 67.62476631100071, 59.494054789000074, 56.916999929002486]\n",
            "[10.795962270388195, 10.566406871949077, 11.1563131954772, 10.402724035150342, 9.664270170200611, 10.285956174436555, 9.391671413035278, 11.508237206993046, 9.353328912275039, 9.596937663395789]\n",
            "[201, 188, 194, 201, 174, 201, 201, 201, 161, 152]\n",
            "[131.79448015799971, 121.46345690599992, 126.52266488099849, 135.47360662699975, 112.27426924300016, 137.75318415899892, 136.22408870799882, 131.07458172299812, 96.18750199200076, 90.99938840300092]\n",
            " MOMENTUM \n",
            "best 9.554035104885031\n",
            "mean 10.184519412445805\n",
            "median 9.977092125237885\n",
            "variance 0.43818777979360257\n",
            "\n",
            " BUNDLE \n",
            "best 9.353328912275039\n",
            "mean 10.272180791330113\n",
            "median 10.34434010479345\n",
            "variance 0.5132767040784696\n",
            "\n",
            "9.353328912275039\n"
          ],
          "name": "stdout"
        }
      ]
    },
    {
      "cell_type": "code",
      "metadata": {
        "colab": {
          "base_uri": "https://localhost:8080/",
          "height": 265
        },
        "id": "D9Ku8_OrQ4FX",
        "outputId": "6768282c-0a7b-488f-bdbb-047721417c6b"
      },
      "source": [
        "_ = plt.boxplot((errors_m,errors_b), labels=['momentum','bundle'])"
      ],
      "execution_count": null,
      "outputs": [
        {
          "output_type": "display_data",
          "data": {
            "image/png": "[encoded data removed]",
            "text/plain": [
              "<Figure size 432x288 with 1 Axes>"
            ]
          },
          "metadata": {
            "tags": [],
            "needs_background": "light"
          }
        }
      ]
    },
    {
      "cell_type": "code",
      "metadata": {
        "colab": {
          "base_uri": "https://localhost:8080/",
          "height": 265
        },
        "id": "TejQZlehQ-o0",
        "outputId": "3c605017-b258-4b51-e519-14bf084d33fe"
      },
      "source": [
        "_ = plt.boxplot((iterations_m,iterations_b), labels=['momentum','bundle'])"
      ],
      "execution_count": null,
      "outputs": [
        {
          "output_type": "display_data",
          "data": {
            "image/png": "[encoded data removed]",
            "text/plain": [
              "<Figure size 432x288 with 1 Axes>"
            ]
          },
          "metadata": {
            "tags": [],
            "needs_background": "light"
          }
        }
      ]
    },
    {
      "cell_type": "code",
      "metadata": {
        "colab": {
          "base_uri": "https://localhost:8080/",
          "height": 265
        },
        "id": "Qx76PpaARwZz",
        "outputId": "fa9f7748-6c91-44af-8e14-7241c101e11b"
      },
      "source": [
        "_ = plt.boxplot((times_m,times_b), labels=['momentum','bundle'])"
      ],
      "execution_count": null,
      "outputs": [
        {
          "output_type": "display_data",
          "data": {
            "image/png": "[encoded data removed]",
            "text/plain": [
              "<Figure size 432x288 with 1 Axes>"
            ]
          },
          "metadata": {
            "tags": [],
            "needs_background": "light"
          }
        }
      ]
    },
    {
      "cell_type": "code",
      "metadata": {
        "colab": {
          "base_uri": "https://localhost:8080/"
        },
        "id": "2mE3ZsGC9bsx",
        "outputId": "cc6cd3ff-c610-4090-83c5-ba371820cff4"
      },
      "source": [
        "b = 9.353328912275039\n",
        "\n",
        "n = MLP(  Nh=[10], Nu=10, Ny=2, f='tanh', f_out='ide', w_scale=2, w_range=.7)\n",
        "\n",
        "# now i train my net. In this case i use classical momentum with no regularization. after training i plot some convergence-curves \n",
        "# using data i collected during training\n",
        "\n",
        "init_w = np.copy(n.w)\n",
        "\n",
        "# train the net with momentum training\n",
        "g_m,e_m,t_m,ep_m = n.momentum_train(tx, ty,alpha=1e-02,beta=0.5,epsilon=1e-5,tresh=.01,max_epochs=2000)\n",
        "\n",
        "n.w = init_w\n",
        "\n",
        "# train the network with bundle method\n",
        "from utils import proximal_bundle_method\n",
        "g_b, e_b, t_b,ep_b = proximal_bundle_method(n, tx, ty, mu=10, reg_param=1e-12,epsilon=1e-02,max_epochs=200)\n",
        "\n",
        "e_b[-1], e_m[-1]"
      ],
      "execution_count": null,
      "outputs": [
        {
          "output_type": "stream",
          "text": [
            "optimal\n",
            "0.00984002863645138\n",
            "0.00984002863645138\n"
          ],
          "name": "stdout"
        }
      ]
    },
    {
      "cell_type": "code",
      "metadata": {
        "colab": {
          "base_uri": "https://localhost:8080/"
        },
        "id": "Cw4y9FnVJngV",
        "outputId": "412b76bb-f0d2-4c02-fbe7-203bb3f4967f"
      },
      "source": [
        "def correct(es,b):\n",
        "  for i in range(len(es)):\n",
        "    es[i] = abs(es[i] - b )/b\n",
        "\n",
        "correct(e_m, best)\n",
        "correct(e_b, best)\n",
        "print(e_b)\n",
        "print(e_m)"
      ],
      "execution_count": null,
      "outputs": [
        {
          "output_type": "stream",
          "text": [
            "[186.79678448731033, 144.25799848140426, 62.78286995054244, 9.412236203172526, 9.412236203172526, 9.412236203172526, 6.397566793110358, 3.7715783988166645, 3.7715783988166645, 2.4939890271864886, 1.6773603783136428, 1.6773603783136428, 1.012467983855772, 1.012467983855772, 1.012467983855772, 0.912887652084529, 0.912887652084529, 0.7830118991317514, 0.6254626835633507, 0.6254626835633507, 0.546764942288522, 0.546764942288522, 0.4593378578982814, 0.4593378578982814, 0.43721338984285996, 0.43721338984285996, 0.37113221113714545, 0.3449415804151288, 0.3449415804151288, 0.3323922930211242, 0.26395758198167324, 0.26395758198167324, 0.26395758198167324, 0.25275080716396275, 0.25275080716396275, 0.25275080716396275, 0.22168996299915128, 0.21603474862492147, 0.21603474862492147, 0.21603474862492147, 0.18815233800868852, 0.18815233800868852, 0.17557366736488572, 0.17557366736488572, 0.15798862105127512, 0.1524951035659811, 0.13636204869476665, 0.13636204869476665, 0.10721680560745181, 0.10721680560745181, 0.10721680560745181, 0.10399293255871579, 0.10046017766565431, 0.10046017766565431, 0.0809980893980292, 0.0809980893980292, 0.0809980893980292, 0.0809980893980292, 0.0809980893980292, 0.07816086457367684, 0.07015910059180837, 0.07015910059180837, 0.07015910059180837, 0.06410105287092042, 0.06410105287092042, 0.06410105287092042, 0.06410105287092042, 0.06410105287092042, 0.06167702231635097, 0.05975332661628149, 0.05975332661628149, 0.056807968432372236, 0.056807968432372236, 0.05401820854103582, 0.05401820854103582, 0.05401820854103582, 0.052782755535204985, 0.052782755535204985, 0.05079837846750475, 0.05079837846750475, 0.04993070818777848, 0.04887076364809117, 0.04599951128360231, 0.0405507654026684, 0.0405507654026684, 0.0405507654026684, 0.0405507654026684, 0.03836907977306084, 0.03836907977306084, 0.03836907977306084, 0.03836907977306084, 0.036925134878639354, 0.036925134878639354, 0.03568676606700046, 0.03568676606700046, 0.0333697888674017, 0.03185184852605608, 0.029314017966574585, 0.024660482786171466, 0.024660482786171466, 0.022438075161584636, 0.022438075161584636, 0.01815452123932737, 0.01815452123932737, 0.015126455533039687, 0.015126455533039687, 0.01031506529566144, 0.01031506529566144, 0.01031506529566144, 0.01031506529566144, 0.006925960005392861, 0.006925960005392861, 0.005489849147781396, 0.005489849147781396, 0.005489849147781396, 0.00452375220846195, 0.00452375220846195, 0.00321884428022759, 0.00321884428022759, 0.00321884428022759, 0.00321884428022759, 0.002361893882992342, 0.002361893882992342, 0.001692562734292045, 0.001692562734292045, 0.0011045444834172967, 0.0011045444834172967, 0.0011045444834172967, 0.0011045444834172967, 0.0005539143554740129, 0.0005539143554740129, 0.0005539143554740129, 0.0004896209908549017, 7.065463063514625e-05, 9.128687201980074e-06, 9.128687201980074e-06, 0.00018516031303091306, 0.0003065222712911738, 0.0003065222712911738, 0.0007894988827070767, 0.0007894988827070767, 0.0007894988827070767, 0.0007894988827070767, 0.0009748911801240497, 0.0009748911801240497, 0.0009748911801240497, 0.001086451905405246, 0.001086451905405246, 0.0012238988633695384, 0.0012238988633695384, 0.0012238988633695384, 0.001237291574432333, 0.001237291574432333, 0.0013545541570293084, 0.0013545541570293084, 0.0014075992860667788, 0.0014075992860667788, 0.0013881717320210834]\n",
            "[186.74614733935562, 179.43300979735858, 169.32446049667166, 155.5908067928315, 137.2937920567113, 115.29906753287861, 92.13173679828223, 70.92858984054622, 53.528134195213354, 39.9455704738374, 29.906375410689936, 22.765624977605384, 17.698959787046764, 13.983081704619535, 11.220795262783982, 9.228908420326144, 7.758940123324973, 6.656581080917701, 5.838741092360898, 5.206473381393083, 4.713467783575011, 4.3194659683017065, 3.9996551227031807, 3.7349493849704576, 3.511601633546077, 3.3200453228661404, 3.15297311824511, 3.00508299972256, 2.8721916077661596, 2.751103861833829, 2.6393461977438912, 2.5350892293987104, 2.436998233037226, 2.344114632216572, 2.2557445069010007, 2.17138355956956, 2.0906662964155203, 2.0133304984782767, 1.9391897470756627, 1.8681125242895633, 1.8000086572175764, 1.7348204422511693, 1.6725130406460271, 1.6130594805765215, 1.5564228592266987, 1.5025426661754682, 1.451329386031453, 1.4026663196216045, 1.3564156048485834, 1.3124261589128525, 1.270542041371157, 1.2509270652055384, 1.222117975835836, 1.1894744374678454, 1.1556743303546069, 1.1220181762237356, 1.089112808039154, 1.057221235567932, 1.0264391590100517, 0.9967828061915174, 0.968232004728958, 0.9407509838260196, 0.9142979797668974, 0.8888294779914151, 0.8643019412157982, 0.8406724515446182, 0.8178989372096189, 0.795940299709439, 0.7747565511903799, 0.7543089706951881, 0.7345602727369059, 0.7154747656007155, 0.6970184831942419, 0.6791592824919792, 0.6618669056890404, 0.6451130105886886, 0.6288711745180677, 0.6131168768910151, 0.5978274642601602, 0.5829821000515615, 0.5685616996799369, 0.5545488507292187, 0.5409277175152245, 0.527683929652473, 0.5148044551381559, 0.5022774606533889, 0.49009215880669094, 0.4782386527821295, 0.4667077847079825, 0.4554909637124892, 0.4445800461312695, 0.43396720525678106, 0.42364482628266176, 0.41360542280713664, 0.4038415751606506, 0.39434588944145077, 0.3851109750596888, 0.3761294378789874, 0.3673938857075556, 0.3588969428801121, 0.35063127090874824, 0.3466517407788473, 0.3407583613170637, 0.33400454561351106, 0.32691983604357555, 0.3197672608559184, 0.3126754506391825, 0.3057056079909192, 0.29888523765240005, 0.29222507920245067, 0.285727593472921, 0.2793912123197115, 0.2732124975882562, 0.2671871266547544, 0.2613104698012867, 0.25557785827292334, 0.24998470801828893, 0.2445265792890992, 0.23919920247752147, 0.23399848673141135, 0.22892051970299723, 0.2239615626872648, 0.21911804335117216, 0.2143865472227727, 0.20976380858935997, 0.20524670118877134, 0.20083222893894173, 0.19651751687366883, 0.19229980240625766, 0.18817642701189913, 0.1841448283968393, 0.1802025332038528, 0.17634715028728626, 0.17257636457624476, 0.1688879315310416, 0.16527967218596654, 0.1617494687608534, 0.15829526081504391, 0.15491504191020558, 0.15160685674303281, 0.14836879870515396, 0.1451990078253729, 0.14209566904865029, 0.13905701080670924, 0.13608130383668865, 0.13316686020664745, 0.1303120335982851, 0.12751521970073376, 0.1247748466870853, 0.12208938460348645, 0.11945734208356125, 0.11817697034366187, 0.11627420503981406, 0.11408291094056539, 0.11177078626331181, 0.10942139867628849, 0.10707599277668374, 0.10475459792526803, 0.10246663473678103, 0.10021623175749436, 0.09800488715848836, 0.0958328002662075, 0.0936995372838155, 0.09160436390962595, 0.08954641133491624, 0.08752475889959983, 0.08553847506474324, 0.0835866375390229, 0.08166834297884637, 0.07978271147207851, 0.07792888841060704, 0.07610604505520242, 0.07431337844588261, 0.07255011098594537, 0.07081549415124722, 0.06910879824308781, 0.06742931592889317, 0.06577636450249172, 0.06414928313300572, 0.06254743225620642, 0.060970193235126514, 0.059416967473926476, 0.05788717571174432]\n"
          ],
          "name": "stdout"
        }
      ]
    },
    {
      "cell_type": "code",
      "metadata": {
        "colab": {
          "base_uri": "https://localhost:8080/",
          "height": 286
        },
        "id": "u0gvjG3T9bsx",
        "outputId": "eaf4603a-ecf4-47db-cda2-b2770fe01ffa"
      },
      "source": [
        "# plot the results with iterations\n",
        "plt.plot( e_m,label='loss momentum')\n",
        "plt.plot( e_b,label='loss bundle')\n",
        "plt.yscale('log')\n",
        "plt.xscale('log')\n",
        "plt.legend()"
      ],
      "execution_count": null,
      "outputs": [
        {
          "output_type": "execute_result",
          "data": {
            "text/plain": [
              "<matplotlib.legend.Legend at 0x7f6f4e44a050>"
            ]
          },
          "metadata": {
            "tags": []
          },
          "execution_count": 21
        },
        {
          "output_type": "display_data",
          "data": {
            "image/png": "[encoded data removed]",
            "text/plain": [
              "<Figure size 432x288 with 1 Axes>"
            ]
          },
          "metadata": {
            "tags": [],
            "needs_background": "light"
          }
        }
      ]
    },
    {
      "cell_type": "code",
      "metadata": {
        "colab": {
          "base_uri": "https://localhost:8080/",
          "height": 286
        },
        "id": "0CVmlHpK9bsx",
        "outputId": "660798d4-b620-464d-e516-e36a4f3a7a37"
      },
      "source": [
        "# plot the results with time\n",
        "plt.plot(t_m, e_m,label='loss momentum')\n",
        "plt.plot(t_b, e_b,label='loss bundle')\n",
        "plt.yscale('log')\n",
        "plt.xscale('log')\n",
        "plt.legend()"
      ],
      "execution_count": null,
      "outputs": [
        {
          "output_type": "execute_result",
          "data": {
            "text/plain": [
              "<matplotlib.legend.Legend at 0x7f6f73595e50>"
            ]
          },
          "metadata": {
            "tags": []
          },
          "execution_count": 22
        },
        {
          "output_type": "display_data",
          "data": {
            "image/png": "[encoded data removed]",
            "text/plain": [
              "<Figure size 432x288 with 1 Axes>"
            ]
          },
          "metadata": {
            "tags": [],
            "needs_background": "light"
          }
        }
      ]
    },
    {
      "cell_type": "code",
      "metadata": {
        "id": "EgsHj0G15xgM"
      },
      "source": [],
      "execution_count": null,
      "outputs": []
    }
  ]
}